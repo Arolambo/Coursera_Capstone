{
 "cells": [
  {
   "cell_type": "markdown",
   "metadata": {},
   "source": [
    "# SOLUTION 1\n",
    "\n",
    "Use the Notebook to build the code to scrape the following Wikipedia page, https://en.wikipedia.org/wiki/List_of_postal_codes_of_Canada:_M, in order to obtain the data that is in the table of postal codes and to transform the data into a pandas dataframe.\n",
    "\n",
    "To create the above dataframe:\n",
    "\n",
    "- The dataframe will consist of three columns: PostalCode, Borough, and Neighborhood\n",
    "- Only process the cells that have an assigned borough. Ignore cells with a borough that is Not assigned.\n",
    "- More than one neighborhood can exist in one postal code area. For example, in the table on the Wikipedia page, you will notice that - M5A is listed twice and has two neighborhoods: Harbourfront and Regent Park. These two rows will be combined into one row with the - neighborhoods separated with a comma as shown in row 11 in the above table.\n",
    "- If a cell has a borough but a Not assigned neighborhood, then the neighborhood will be the same as the borough. So for the 9th cell in the table on the Wikipedia page, the value of the Borough and the Neighborhood columns will be Queen's Park.\n",
    "- Clean your Notebook and add Markdown cells to explain your work and any assumptions you are making.\n",
    "- In the last cell of your notebook, use the .shape method to print the number of rows of your dataframe.\n"
   ]
  },
  {
   "cell_type": "code",
   "execution_count": 26,
   "metadata": {},
   "outputs": [
    {
     "name": "stdout",
     "output_type": "stream",
     "text": [
      "Collecting package metadata (current_repodata.json): ...working... done\n",
      "Solving environment: ...working... \n",
      "The environment is inconsistent, please check the package plan carefully\n",
      "The following packages are causing the inconsistency:\n",
      "\n",
      "  - defaults/win-64::anaconda==2019.07=py37_0\n",
      "  - defaults/win-64::numba==0.44.1=py37hf9181ef_0\n",
      "done\n",
      "\n",
      "## Package Plan ##\n",
      "\n",
      "  environment location: C:\\Users\\AROLAMBO\\Anaconda3\n",
      "\n",
      "  added / updated specs:\n",
      "    - beautifulsoup4\n",
      "\n",
      "\n",
      "The following packages will be downloaded:\n",
      "\n",
      "    package                    |            build\n",
      "    ---------------------------|-----------------\n",
      "    _anaconda_depends-2019.03  |           py37_0           5 KB  anaconda\n",
      "    anaconda-custom            |           py37_1           3 KB\n",
      "    beautifulsoup4-4.8.2       |           py37_0         161 KB  anaconda\n",
      "    ca-certificates-2020.1.1   |                0         165 KB  anaconda\n",
      "    certifi-2019.11.28         |           py37_1         157 KB  anaconda\n",
      "    conda-4.8.3                |           py37_0         3.0 MB  anaconda\n",
      "    openssl-1.1.1              |       he774522_0         5.7 MB  anaconda\n",
      "    tbb-2018.0.5               |       he980bc4_0         167 KB  anaconda\n",
      "    ------------------------------------------------------------\n",
      "                                           Total:         9.4 MB\n",
      "\n",
      "The following NEW packages will be INSTALLED:\n",
      "\n",
      "  _anaconda_depends  anaconda/win-64::_anaconda_depends-2019.03-py37_0\n",
      "  tbb                anaconda/win-64::tbb-2018.0.5-he980bc4_0\n",
      "\n",
      "The following packages will be UPDATED:\n",
      "\n",
      "  beautifulsoup4     pkgs/main::beautifulsoup4-4.7.1-py37_1 --> anaconda::beautifulsoup4-4.8.2-py37_0\n",
      "  ca-certificates    pkgs/main::ca-certificates-2019.5.15-0 --> anaconda::ca-certificates-2020.1.1-0\n",
      "  certifi             conda-forge::certifi-2019.6.16-py37_0 --> anaconda::certifi-2019.11.28-py37_1\n",
      "  openssl              pkgs/main::openssl-1.1.1c-he774522_1 --> anaconda::openssl-1.1.1-he774522_0\n",
      "\n",
      "The following packages will be SUPERSEDED by a higher-priority channel:\n",
      "\n",
      "  conda              conda-forge::conda-4.8.3-py37hc8dfbb8~ --> anaconda::conda-4.8.3-py37_0\n",
      "\n",
      "The following packages will be DOWNGRADED:\n",
      "\n",
      "  anaconda                                   2019.07-py37_0 --> custom-py37_1\n",
      "\n",
      "\n",
      "\n",
      "Downloading and Extracting Packages\n",
      "\n",
      "conda-4.8.3          | 3.0 MB    |            |   0% \n",
      "conda-4.8.3          | 3.0 MB    |            |   1% \n",
      "conda-4.8.3          | 3.0 MB    | 3          |   4% \n",
      "conda-4.8.3          | 3.0 MB    | #          |  10% \n",
      "conda-4.8.3          | 3.0 MB    | #2         |  13% \n",
      "conda-4.8.3          | 3.0 MB    | #7         |  18% \n",
      "conda-4.8.3          | 3.0 MB    | ##3        |  23% \n",
      "conda-4.8.3          | 3.0 MB    | ##7        |  27% \n",
      "conda-4.8.3          | 3.0 MB    | ###        |  31% \n",
      "conda-4.8.3          | 3.0 MB    | ###6       |  37% \n",
      "conda-4.8.3          | 3.0 MB    | ####1      |  42% \n",
      "conda-4.8.3          | 3.0 MB    | ####5      |  45% \n",
      "conda-4.8.3          | 3.0 MB    | #####4     |  54% \n",
      "conda-4.8.3          | 3.0 MB    | #####9     |  59% \n",
      "conda-4.8.3          | 3.0 MB    | ######4    |  64% \n",
      "conda-4.8.3          | 3.0 MB    | ######8    |  69% \n",
      "conda-4.8.3          | 3.0 MB    | #######2   |  73% \n",
      "conda-4.8.3          | 3.0 MB    | #######6   |  77% \n",
      "conda-4.8.3          | 3.0 MB    | ########1  |  81% \n",
      "conda-4.8.3          | 3.0 MB    | ########5  |  85% \n",
      "conda-4.8.3          | 3.0 MB    | ########9  |  89% \n",
      "conda-4.8.3          | 3.0 MB    | #########2 |  93% \n",
      "conda-4.8.3          | 3.0 MB    | #########6 |  96% \n",
      "conda-4.8.3          | 3.0 MB    | #########9 | 100% \n",
      "conda-4.8.3          | 3.0 MB    | ########## | 100% \n",
      "\n",
      "ca-certificates-2020 | 165 KB    |            |   0% \n",
      "ca-certificates-2020 | 165 KB    | #9         |  19% \n",
      "ca-certificates-2020 | 165 KB    | ######8    |  68% \n",
      "ca-certificates-2020 | 165 KB    | ########## | 100% \n",
      "\n",
      "openssl-1.1.1        | 5.7 MB    |            |   0% \n",
      "openssl-1.1.1        | 5.7 MB    |            |   0% \n",
      "openssl-1.1.1        | 5.7 MB    | 2          |   2% \n",
      "openssl-1.1.1        | 5.7 MB    | 4          |   5% \n",
      "openssl-1.1.1        | 5.7 MB    | 6          |   7% \n",
      "openssl-1.1.1        | 5.7 MB    | 8          |   8% \n",
      "openssl-1.1.1        | 5.7 MB    | #          |  10% \n",
      "openssl-1.1.1        | 5.7 MB    | #1         |  12% \n",
      "openssl-1.1.1        | 5.7 MB    | #6         |  16% \n",
      "openssl-1.1.1        | 5.7 MB    | #8         |  18% \n",
      "openssl-1.1.1        | 5.7 MB    | ##         |  20% \n",
      "openssl-1.1.1        | 5.7 MB    | ##2        |  23% \n",
      "openssl-1.1.1        | 5.7 MB    | ##4        |  25% \n",
      "openssl-1.1.1        | 5.7 MB    | ##6        |  27% \n",
      "openssl-1.1.1        | 5.7 MB    | ##9        |  29% \n",
      "openssl-1.1.1        | 5.7 MB    | ###1       |  31% \n",
      "openssl-1.1.1        | 5.7 MB    | ###3       |  34% \n",
      "openssl-1.1.1        | 5.7 MB    | ###5       |  36% \n",
      "openssl-1.1.1        | 5.7 MB    | ###7       |  38% \n",
      "openssl-1.1.1        | 5.7 MB    | ####       |  40% \n",
      "openssl-1.1.1        | 5.7 MB    | ####2      |  42% \n",
      "openssl-1.1.1        | 5.7 MB    | ####4      |  44% \n",
      "openssl-1.1.1        | 5.7 MB    | ####6      |  46% \n",
      "openssl-1.1.1        | 5.7 MB    | ####7      |  48% \n",
      "openssl-1.1.1        | 5.7 MB    | ####9      |  50% \n",
      "openssl-1.1.1        | 5.7 MB    | #####1     |  52% \n",
      "openssl-1.1.1        | 5.7 MB    | #####3     |  54% \n",
      "openssl-1.1.1        | 5.7 MB    | #####5     |  56% \n",
      "openssl-1.1.1        | 5.7 MB    | #####8     |  58% \n",
      "openssl-1.1.1        | 5.7 MB    | ######     |  60% \n",
      "openssl-1.1.1        | 5.7 MB    | ######2    |  62% \n",
      "openssl-1.1.1        | 5.7 MB    | ######4    |  65% \n",
      "openssl-1.1.1        | 5.7 MB    | ######6    |  67% \n",
      "openssl-1.1.1        | 5.7 MB    | ######8    |  69% \n",
      "openssl-1.1.1        | 5.7 MB    | #######1   |  71% \n",
      "openssl-1.1.1        | 5.7 MB    | #######3   |  73% \n",
      "openssl-1.1.1        | 5.7 MB    | #######5   |  75% \n",
      "openssl-1.1.1        | 5.7 MB    | #######7   |  77% \n",
      "openssl-1.1.1        | 5.7 MB    | #######9   |  79% \n",
      "openssl-1.1.1        | 5.7 MB    | ########1  |  81% \n",
      "openssl-1.1.1        | 5.7 MB    | ########3  |  83% \n",
      "openssl-1.1.1        | 5.7 MB    | ########5  |  85% \n",
      "openssl-1.1.1        | 5.7 MB    | ########6  |  87% \n",
      "openssl-1.1.1        | 5.7 MB    | ########8  |  89% \n",
      "openssl-1.1.1        | 5.7 MB    | #########  |  91% \n",
      "openssl-1.1.1        | 5.7 MB    | #########2 |  93% \n",
      "openssl-1.1.1        | 5.7 MB    | #########4 |  95% \n",
      "openssl-1.1.1        | 5.7 MB    | #########6 |  97% \n",
      "openssl-1.1.1        | 5.7 MB    | #########8 |  99% \n",
      "openssl-1.1.1        | 5.7 MB    | ########## | 100% \n",
      "\n",
      "_anaconda_depends-20 | 5 KB      |            |   0% \n",
      "_anaconda_depends-20 | 5 KB      | ########## | 100% \n",
      "\n",
      "anaconda-custom      | 3 KB      |            |   0% \n",
      "anaconda-custom      | 3 KB      | ########## | 100% \n",
      "\n",
      "certifi-2019.11.28   | 157 KB    |            |   0% \n",
      "certifi-2019.11.28   | 157 KB    | #          |  10% \n",
      "certifi-2019.11.28   | 157 KB    | #########1 |  92% \n",
      "certifi-2019.11.28   | 157 KB    | ########## | 100% \n",
      "\n",
      "tbb-2018.0.5         | 167 KB    |            |   0% \n",
      "tbb-2018.0.5         | 167 KB    | 9          |  10% \n",
      "tbb-2018.0.5         | 167 KB    | ########6  |  86% \n",
      "tbb-2018.0.5         | 167 KB    | ########## | 100% \n",
      "\n",
      "beautifulsoup4-4.8.2 | 161 KB    |            |   0% \n",
      "beautifulsoup4-4.8.2 | 161 KB    | 9          |  10% \n",
      "beautifulsoup4-4.8.2 | 161 KB    | #########9 |  99% \n",
      "beautifulsoup4-4.8.2 | 161 KB    | ########## | 100% \n",
      "Preparing transaction: ...working... done\n",
      "Verifying transaction: ...working... done\n",
      "Executing transaction: ...working... done\n",
      "\n",
      "Note: you may need to restart the kernel to use updated packages.\n"
     ]
    }
   ],
   "source": [
    "conda install -c anaconda beautifulsoup4"
   ]
  },
  {
   "cell_type": "code",
   "execution_count": 27,
   "metadata": {},
   "outputs": [
    {
     "name": "stdout",
     "output_type": "stream",
     "text": [
      "Collecting package metadata (current_repodata.json): ...working... done\n",
      "Solving environment: ...working... done\n",
      "\n",
      "# All requested packages already installed.\n",
      "\n",
      "\n",
      "Note: you may need to restart the kernel to use updated packages.\n"
     ]
    }
   ],
   "source": [
    "conda install -c anaconda lxml"
   ]
  },
  {
   "cell_type": "code",
   "execution_count": 28,
   "metadata": {},
   "outputs": [],
   "source": [
    "from bs4 import BeautifulSoup\n",
    "import requests\n",
    "import pandas as pd\n",
    "import requests"
   ]
  },
  {
   "cell_type": "code",
   "execution_count": 32,
   "metadata": {},
   "outputs": [],
   "source": [
    "List_url = \"https://en.wikipedia.org/wiki/List_of_postal_codes_of_Canada:_M\"\n",
    "source = requests.get(List_url).text"
   ]
  },
  {
   "cell_type": "code",
   "execution_count": 33,
   "metadata": {},
   "outputs": [],
   "source": [
    "soup = BeautifulSoup(source, 'xml')"
   ]
  },
  {
   "cell_type": "code",
   "execution_count": 34,
   "metadata": {},
   "outputs": [],
   "source": [
    "table=soup.find('table')"
   ]
  },
  {
   "cell_type": "code",
   "execution_count": 36,
   "metadata": {},
   "outputs": [],
   "source": [
    "#dataframe will consist of three columns: PostalCode, Borough, and Neighborhood\n",
    "column_names = ['Postalcode','Borough','Neighborhood']\n",
    "df = pd.DataFrame(columns = column_names)"
   ]
  },
  {
   "cell_type": "code",
   "execution_count": 37,
   "metadata": {},
   "outputs": [],
   "source": [
    "# Search all the postcode, borough, neighborhood \n",
    "for tr_cell in table.find_all('tr'):\n",
    "    row_data=[]\n",
    "    for td_cell in tr_cell.find_all('td'):\n",
    "        row_data.append(td_cell.text.strip())\n",
    "    if len(row_data)==3:\n",
    "        df.loc[len(df)] = row_data"
   ]
  },
  {
   "cell_type": "code",
   "execution_count": 38,
   "metadata": {},
   "outputs": [
    {
     "data": {
      "text/html": [
       "<div>\n",
       "<style scoped>\n",
       "    .dataframe tbody tr th:only-of-type {\n",
       "        vertical-align: middle;\n",
       "    }\n",
       "\n",
       "    .dataframe tbody tr th {\n",
       "        vertical-align: top;\n",
       "    }\n",
       "\n",
       "    .dataframe thead th {\n",
       "        text-align: right;\n",
       "    }\n",
       "</style>\n",
       "<table border=\"1\" class=\"dataframe\">\n",
       "  <thead>\n",
       "    <tr style=\"text-align: right;\">\n",
       "      <th></th>\n",
       "      <th>Postalcode</th>\n",
       "      <th>Borough</th>\n",
       "      <th>Neighborhood</th>\n",
       "    </tr>\n",
       "  </thead>\n",
       "  <tbody>\n",
       "    <tr>\n",
       "      <th>0</th>\n",
       "      <td>M1A</td>\n",
       "      <td>Not assigned</td>\n",
       "      <td></td>\n",
       "    </tr>\n",
       "    <tr>\n",
       "      <th>1</th>\n",
       "      <td>M2A</td>\n",
       "      <td>Not assigned</td>\n",
       "      <td></td>\n",
       "    </tr>\n",
       "    <tr>\n",
       "      <th>2</th>\n",
       "      <td>M3A</td>\n",
       "      <td>North York</td>\n",
       "      <td>Parkwoods</td>\n",
       "    </tr>\n",
       "    <tr>\n",
       "      <th>3</th>\n",
       "      <td>M4A</td>\n",
       "      <td>North York</td>\n",
       "      <td>Victoria Village</td>\n",
       "    </tr>\n",
       "    <tr>\n",
       "      <th>4</th>\n",
       "      <td>M5A</td>\n",
       "      <td>Downtown Toronto</td>\n",
       "      <td>Regent Park / Harbourfront</td>\n",
       "    </tr>\n",
       "  </tbody>\n",
       "</table>\n",
       "</div>"
      ],
      "text/plain": [
       "  Postalcode           Borough                Neighborhood\n",
       "0        M1A      Not assigned                            \n",
       "1        M2A      Not assigned                            \n",
       "2        M3A        North York                   Parkwoods\n",
       "3        M4A        North York            Victoria Village\n",
       "4        M5A  Downtown Toronto  Regent Park / Harbourfront"
      ]
     },
     "execution_count": 38,
     "metadata": {},
     "output_type": "execute_result"
    }
   ],
   "source": [
    "df.head()"
   ]
  },
  {
   "cell_type": "code",
   "execution_count": 39,
   "metadata": {},
   "outputs": [],
   "source": [
    "df=df[df['Borough']!='Not assigned']"
   ]
  },
  {
   "cell_type": "code",
   "execution_count": 41,
   "metadata": {},
   "outputs": [],
   "source": [
    "temp_df=df.groupby('Postalcode')['Neighborhood'].apply(lambda x: \"%s\" % ', '.join(x))\n",
    "temp_df=temp_df.reset_index(drop=False)\n",
    "temp_df.rename(columns={'Neighborhood':'Neighborhood_joined'},inplace=True)"
   ]
  },
  {
   "cell_type": "code",
   "execution_count": 42,
   "metadata": {},
   "outputs": [],
   "source": [
    "df_merge = pd.merge(df, temp_df, on='Postalcode')"
   ]
  },
  {
   "cell_type": "code",
   "execution_count": 43,
   "metadata": {},
   "outputs": [],
   "source": [
    "\n",
    "df_merge.drop(['Neighborhood'],axis=1,inplace=True)"
   ]
  },
  {
   "cell_type": "code",
   "execution_count": 44,
   "metadata": {},
   "outputs": [],
   "source": [
    "\n",
    "df_merge.drop_duplicates(inplace=True)"
   ]
  },
  {
   "cell_type": "code",
   "execution_count": 45,
   "metadata": {},
   "outputs": [],
   "source": [
    "df_merge.rename(columns={'Neighborhood_joined':'Neighborhood'},inplace=True)\n"
   ]
  },
  {
   "cell_type": "code",
   "execution_count": 46,
   "metadata": {},
   "outputs": [
    {
     "data": {
      "text/html": [
       "<div>\n",
       "<style scoped>\n",
       "    .dataframe tbody tr th:only-of-type {\n",
       "        vertical-align: middle;\n",
       "    }\n",
       "\n",
       "    .dataframe tbody tr th {\n",
       "        vertical-align: top;\n",
       "    }\n",
       "\n",
       "    .dataframe thead th {\n",
       "        text-align: right;\n",
       "    }\n",
       "</style>\n",
       "<table border=\"1\" class=\"dataframe\">\n",
       "  <thead>\n",
       "    <tr style=\"text-align: right;\">\n",
       "      <th></th>\n",
       "      <th>Postalcode</th>\n",
       "      <th>Borough</th>\n",
       "      <th>Neighborhood</th>\n",
       "    </tr>\n",
       "  </thead>\n",
       "  <tbody>\n",
       "    <tr>\n",
       "      <th>0</th>\n",
       "      <td>M3A</td>\n",
       "      <td>North York</td>\n",
       "      <td>Parkwoods</td>\n",
       "    </tr>\n",
       "    <tr>\n",
       "      <th>1</th>\n",
       "      <td>M4A</td>\n",
       "      <td>North York</td>\n",
       "      <td>Victoria Village</td>\n",
       "    </tr>\n",
       "    <tr>\n",
       "      <th>2</th>\n",
       "      <td>M5A</td>\n",
       "      <td>Downtown Toronto</td>\n",
       "      <td>Regent Park / Harbourfront</td>\n",
       "    </tr>\n",
       "    <tr>\n",
       "      <th>3</th>\n",
       "      <td>M6A</td>\n",
       "      <td>North York</td>\n",
       "      <td>Lawrence Manor / Lawrence Heights</td>\n",
       "    </tr>\n",
       "    <tr>\n",
       "      <th>4</th>\n",
       "      <td>M7A</td>\n",
       "      <td>Downtown Toronto</td>\n",
       "      <td>Queen's Park / Ontario Provincial Government</td>\n",
       "    </tr>\n",
       "  </tbody>\n",
       "</table>\n",
       "</div>"
      ],
      "text/plain": [
       "  Postalcode           Borough                                  Neighborhood\n",
       "0        M3A        North York                                     Parkwoods\n",
       "1        M4A        North York                              Victoria Village\n",
       "2        M5A  Downtown Toronto                    Regent Park / Harbourfront\n",
       "3        M6A        North York             Lawrence Manor / Lawrence Heights\n",
       "4        M7A  Downtown Toronto  Queen's Park / Ontario Provincial Government"
      ]
     },
     "execution_count": 46,
     "metadata": {},
     "output_type": "execute_result"
    }
   ],
   "source": [
    "\n",
    "df_merge.head()"
   ]
  },
  {
   "cell_type": "code",
   "execution_count": 47,
   "metadata": {},
   "outputs": [
    {
     "data": {
      "text/plain": [
       "(103, 3)"
      ]
     },
     "execution_count": 47,
     "metadata": {},
     "output_type": "execute_result"
    }
   ],
   "source": [
    "df_merge.shape"
   ]
  }
 ],
 "metadata": {
  "kernelspec": {
   "display_name": "Python 3",
   "language": "python",
   "name": "python3"
  },
  "language_info": {
   "codemirror_mode": {
    "name": "ipython",
    "version": 3
   },
   "file_extension": ".py",
   "mimetype": "text/x-python",
   "name": "python",
   "nbconvert_exporter": "python",
   "pygments_lexer": "ipython3",
   "version": "3.7.3"
  }
 },
 "nbformat": 4,
 "nbformat_minor": 2
}
